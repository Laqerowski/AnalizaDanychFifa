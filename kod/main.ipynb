{
 "cells": [
  {
   "cell_type": "markdown",
   "metadata": {},
   "source": [
    "Import Bibliotek oraz Funkcji"
   ]
  },
  {
   "cell_type": "code",
   "execution_count": 2,
   "metadata": {},
   "outputs": [],
   "source": [
    "from kod import process_file\n",
    "import os"
   ]
  },
  {
   "cell_type": "markdown",
   "metadata": {
    "notebookRunGroups": {
     "groupValue": "2"
    },
    "tags": [
     "parameters"
    ]
   },
   "source": [
    "Konwersja Pliku"
   ]
  },
  {
   "cell_type": "markdown",
   "metadata": {},
   "source": [
    "kod ten pozwala na konwersje pliku z formatu tekstowego na json, a następnie import danych do pliku xlsx"
   ]
  },
  {
   "cell_type": "markdown",
   "metadata": {},
   "source": [
    "FIFA 16"
   ]
  },
  {
   "cell_type": "code",
   "execution_count": 3,
   "metadata": {},
   "outputs": [
    {
     "name": "stdout",
     "output_type": "stream",
     "text": [
      "Cleaned Text:\n",
      "[{\"x\": 1434356101000, \"y\": 199, \"shop\": \"Ea.com\", \"name\": \"15 Jun 2015 15 - 23 Sep 2015 07\"},\n",
      "{\"x\": 1442999224000, \"y\": 198.56, \"shop\": \"Gamesplanet DE\", \"name\": \"23 Sep 2015 07 - 5 Nov 2015 08\"},\n",
      "{\"x\": 1446725324000, \"y\": 179.15, \"shop\": \"Funstock Digital\", \"name\": \"5 Nov 2015 08 - 5 Nov 2015 08\"},\n",
      "{\"x\": 1446736120000, \"y\": 174.26, \"shop\": \"Funstock Digital\", \"name\": \"5 Nov 2015 08 - 24 Nov 2015 16\"},\n",
      "{\"x\": 1448378203000, \"y\": 119.4, \"shop\": \"Ea.com\", \"name\": \"24 Nov 2015 16 - 1 Dec 2015 16\"},\n",
      "...\n",
      "Dane zostały pomyślnie przetworzone na JSON!\n",
      "Plik Excel zapisany jako: c:\\Users\\Jakub\\Desktop\\Fifa analiza\\dane\\excel\\cena_sklep_fifa16.xlsx\n"
     ]
    }
   ],
   "source": [
    "#Official stores\n",
    "file_path = r'c:\\Users\\Jakub\\Desktop\\Fifa analiza\\dane\\tekst\\cena_sklep_fifa16.txt'\n",
    "excel_folder = r'c:\\Users\\Jakub\\Desktop\\Fifa analiza\\dane\\excel'\n",
    "excel_filename = 'cena_sklep_fifa16.xlsx'\n",
    "\n",
    "process_file(file_path, excel_folder, excel_filename)"
   ]
  },
  {
   "cell_type": "code",
   "execution_count": 4,
   "metadata": {},
   "outputs": [
    {
     "name": "stdout",
     "output_type": "stream",
     "text": [
      "Cleaned Text:\n",
      "[{\"x\": 1611100800000, \"y\": 75.09, \"shop\": \"CDKeys.com\", \"name\": \"20 Jan 2021\"},\n",
      "{\"x\": 1612915200000, \"y\": 74.09, \"shop\": \"CDKeys.com\", \"name\": \"10 Feb 2021\"},\n",
      "{\"x\": 1614988800000, \"y\": 119.19, \"shop\": \"Instant Gaming\", \"name\": \"6 Mar 2021\"},\n",
      "{\"x\": 1617580800000, \"y\": 80.49, \"shop\": \"CDKeys.com\", \"name\": \"5 Apr 2021\"},\n",
      "{\"x\": 1620259200000, \"y\": 80.49, \"shop\": \"CDKeys.com\", \"name\": \"6 May 2021\"},\n",
      "{\"x\": 1623456000000, \"y\": 79.59, \"shop\": \"CDKeys.com\", \"name\": \"12 Jun 2021\"},\n",
      "{\"x\": 1625616000000, \"y...\n",
      "Dane zostały pomyślnie przetworzone na JSON!\n",
      "Plik Excel zapisany jako: c:\\Users\\Jakub\\Desktop\\Fifa analiza\\dane\\excel\\cena_klucz_fifa16.xlsx\n"
     ]
    }
   ],
   "source": [
    "#Keyshops\n",
    "file_path = r'c:\\Users\\Jakub\\Desktop\\Fifa analiza\\dane\\tekst\\cena_klucz_fifa16.txt'\n",
    "excel_folder = r'c:\\Users\\Jakub\\Desktop\\Fifa analiza\\dane\\excel'\n",
    "excel_filename = 'cena_klucz_fifa16.xlsx'\n",
    "\n",
    "process_file(file_path, excel_folder, excel_filename)"
   ]
  },
  {
   "cell_type": "markdown",
   "metadata": {},
   "source": [
    "FIFA 17"
   ]
  },
  {
   "cell_type": "code",
   "execution_count": 5,
   "metadata": {},
   "outputs": [
    {
     "name": "stdout",
     "output_type": "stream",
     "text": [
      "Cleaned Text:\n",
      "[{\"x\": 1465237238000, \"y\": 199, \"shop\": \"Ea.com\", \"name\": \"6 Jun 2016 20 - 25 Aug 2016 21\"},\n",
      "{\"x\": 1472106076000, \"y\": 199, \"shop\": \"Ea.com\", \"name\": \"6 Jun 2016 20 - 25 Aug 2016 21\"},\n",
      "{\"x\": 1472106076001, \"y\": null, \"shop\": null, \"name\": null},\n",
      "{\"x\": 1474895342000, \"y\": 243.25, \"shop\": \"Gamesplanet UK\", \"name\": \"26 Sep 2016 09 - 22 Oct 2016 11\"},\n",
      "{\"x\": 1477159889000, \"y\": 169.9, \"shop\": \"Grymel.pl\", \"name\": \"22 Oct 2016 11 - 24 Oct 2016 17\"},\n",
      "{\"x\": 1477340256000, \"y\": 159, \"shop\": \"Konsoleigry\"...\n",
      "Dane zostały pomyślnie przetworzone na JSON!\n",
      "Plik Excel zapisany jako: c:\\Users\\Jakub\\Desktop\\Fifa analiza\\dane\\excel\\cena_sklep_fifa17.xlsx\n"
     ]
    }
   ],
   "source": [
    "#Official stores\n",
    "file_path = r'c:\\Users\\Jakub\\Desktop\\Fifa analiza\\dane\\tekst\\cena_sklep_fifa17.txt'\n",
    "excel_folder = r'c:\\Users\\Jakub\\Desktop\\Fifa analiza\\dane\\excel'\n",
    "excel_filename = 'cena_sklep_fifa17.xlsx'\n",
    "\n",
    "process_file(file_path, excel_folder, excel_filename)"
   ]
  },
  {
   "cell_type": "code",
   "execution_count": 6,
   "metadata": {},
   "outputs": [
    {
     "name": "stdout",
     "output_type": "stream",
     "text": [
      "Cleaned Text:\n",
      "[{\"x\": 1611619200000, \"y\": 14.08, \"shop\": \"G2Play\", \"name\": \"26 Jan 2021\"},\n",
      "{\"x\": 1613952000000, \"y\": 10.49, \"shop\": \"CDKeys.com\", \"name\": \"22 Feb 2021\"},\n",
      "{\"x\": 1615507200000, \"y\": 10.49, \"shop\": \"CDKeys.com\", \"name\": \"12 Mar 2021\"},\n",
      "{\"x\": 1617321600000, \"y\": 10.79, \"shop\": \"CDKeys.com\", \"name\": \"2 Apr 2021\"},\n",
      "{\"x\": 1621123200000, \"y\": 10.79, \"shop\": \"CDKeys.com\", \"name\": \"16 May 2021\"},\n",
      "{\"x\": 1622592000000, \"y\": 10.79, \"shop\": \"CDKeys.com\", \"name\": \"2 Jun 2021\"},\n",
      "{\"x\": 1626393600000, \"y\": 10.79...\n",
      "Dane zostały pomyślnie przetworzone na JSON!\n",
      "Plik Excel zapisany jako: c:\\Users\\Jakub\\Desktop\\Fifa analiza\\dane\\excel\\cena_klucz_fifa17.xlsx\n"
     ]
    }
   ],
   "source": [
    "#Keyshops\n",
    "file_path = r'c:\\Users\\Jakub\\Desktop\\Fifa analiza\\dane\\tekst\\cena_klucz_fifa17.txt'\n",
    "excel_folder = r'c:\\Users\\Jakub\\Desktop\\Fifa analiza\\dane\\excel'\n",
    "excel_filename = 'cena_klucz_fifa17.xlsx'\n",
    "\n",
    "process_file(file_path, excel_folder, excel_filename)"
   ]
  },
  {
   "cell_type": "markdown",
   "metadata": {},
   "source": [
    "FIFA 18"
   ]
  },
  {
   "cell_type": "code",
   "execution_count": 7,
   "metadata": {},
   "outputs": [
    {
     "name": "stdout",
     "output_type": "stream",
     "text": [
      "Cleaned Text:\n",
      "[{\"x\": 1496676139000, \"y\": 239.9, \"shop\": \"Ea.com\", \"name\": \"5 Jun 2017 22 - 6 Jun 2017 12\"},\n",
      "{\"x\": 1496751131000, \"y\": 224.9, \"shop\": \"Muve.pl\", \"name\": \"6 Jun 2017 12 - 6 Jun 2017 13\"},\n",
      "{\"x\": 1496754792000, \"y\": 214.99, \"shop\": \"Ultima.pl\", \"name\": \"6 Jun 2017 13 - 6 Jun 2017 13\"},\n",
      "{\"x\": 1496762037000, \"y\": 209.9, \"shop\": \"Grymel.pl\", \"name\": \"6 Jun 2017 13 - 8 Jul 2017 14\"},\n",
      "{\"x\": 1499505268000, \"y\": 199.9, \"shop\": \"Grymel.pl\", \"name\": \"8 Jul 2017 14 - 10 Aug 2017 16\"},\n",
      "{\"x\": 1502392592000, \"...\n",
      "Dane zostały pomyślnie przetworzone na JSON!\n",
      "Plik Excel zapisany jako: c:\\Users\\Jakub\\Desktop\\Fifa analiza\\dane\\excel\\cena_sklep_fifa18.xlsx\n"
     ]
    }
   ],
   "source": [
    "#Official stores\n",
    "file_path = r'c:\\Users\\Jakub\\Desktop\\Fifa analiza\\dane\\tekst\\cena_sklep_fifa18.txt'\n",
    "excel_folder = r'c:\\Users\\Jakub\\Desktop\\Fifa analiza\\dane\\excel'\n",
    "excel_filename = 'cena_sklep_fifa18.xlsx'\n",
    "\n",
    "process_file(file_path, excel_folder, excel_filename)"
   ]
  },
  {
   "cell_type": "code",
   "execution_count": 8,
   "metadata": {},
   "outputs": [
    {
     "name": "stdout",
     "output_type": "stream",
     "text": [
      "Cleaned Text:\n",
      "[{\"x\": 1611878400000, \"y\": 48.43, \"shop\": \"Eneba\", \"name\": \"29 Jan 2021\"},\n",
      "{\"x\": 1614211200000, \"y\": 34.86, \"shop\": \"GAMIVO\", \"name\": \"25 Feb 2021\"},\n",
      "{\"x\": 1614556800000, \"y\": 34.96, \"shop\": \"GAMIVO\", \"name\": \"1 Mar 2021\"},\n",
      "{\"x\": 1619568000000, \"y\": 31.85, \"shop\": \"Kinguin\", \"name\": \"28 Apr 2021\"},\n",
      "{\"x\": 1621814400000, \"y\": 29.69, \"shop\": \"CDKeys.com\", \"name\": \"24 May 2021\"},\n",
      "{\"x\": 1622937600000, \"y\": 27.51, \"shop\": \"G2Play\", \"name\": \"6 Jun 2021\"},\n",
      "{\"x\": 1626393600000, \"y\": 31.21, \"shop\": \"Eneba...\n",
      "Dane zostały pomyślnie przetworzone na JSON!\n",
      "Plik Excel zapisany jako: c:\\Users\\Jakub\\Desktop\\Fifa analiza\\dane\\excel\\cena_klucz_fifa18.xlsx\n"
     ]
    }
   ],
   "source": [
    "#Keyshops\n",
    "file_path = r'c:\\Users\\Jakub\\Desktop\\Fifa analiza\\dane\\tekst\\cena_klucz_fifa18.txt'\n",
    "excel_folder = r'c:\\Users\\Jakub\\Desktop\\Fifa analiza\\dane\\excel'\n",
    "excel_filename = 'cena_klucz_fifa18.xlsx'\n",
    "\n",
    "process_file(file_path, excel_folder, excel_filename)"
   ]
  },
  {
   "cell_type": "markdown",
   "metadata": {},
   "source": [
    "FIFA 19"
   ]
  },
  {
   "cell_type": "code",
   "execution_count": null,
   "metadata": {},
   "outputs": [
    {
     "name": "stdout",
     "output_type": "stream",
     "text": [
      "Cleaned Text:\n",
      "[{\"x\": 1528572445000, \"y\": 239.9, \"shop\": \"Ea.com\", \"name\": \"9 Jun 2018 27 - 23 Jun 2018 22\"},\n",
      "{\"x\": 1529734948000, \"y\": 199, \"shop\": \"Konsoleigry\", \"name\": \"23 Jun 2018 22 - 19 Sep 2018 18\"},\n",
      "{\"x\": 1537352289000, \"y\": 194.99, \"shop\": \"Konsoleigry\", \"name\": \"19 Sep 2018 18 - 14 Oct 2018 49\"},\n",
      "{\"x\": 1539539365000, \"y\": 199.9, \"shop\": \"Muve.pl\", \"name\": \"14 Oct 2018 49 - 17 Oct 2018 25\"},\n",
      "{\"x\": 1539797147000, \"y\": 194.99, \"shop\": \"Konsoleigry\", \"name\": \"17 Oct 2018 25 - 18 Oct 2018 30\"},\n",
      "{\"x\": 153...\n",
      "Dane zostały pomyślnie przetworzone na JSON!\n",
      "Plik Excel zapisany jako: c:\\Users\\Jakub\\Desktop\\Fifa analiza\\dane\\excel\\cena_sklep_fifa19.xlsx\n"
     ]
    }
   ],
   "source": [
    "#Official stores\n",
    "file_path = r'c:\\Users\\Jakub\\Desktop\\Fifa analiza\\dane\\tekst\\cena_sklep_fifa19.txt'\n",
    "excel_folder = r'c:\\Users\\Jakub\\Desktop\\Fifa analiza\\dane\\excel'\n",
    "excel_filename = 'cena_sklep_fifa19.xlsx'\n",
    "\n",
    "process_file(file_path, excel_folder, excel_filename)"
   ]
  },
  {
   "cell_type": "code",
   "execution_count": 2,
   "metadata": {},
   "outputs": [
    {
     "name": "stdout",
     "output_type": "stream",
     "text": [
      "Cleaned Text:\n",
      "[{\"x\": 1611100800000, \"y\": 36.91, \"shop\": \"Instant Gaming\", \"name\": \"20 Jan 2021\"},\n",
      "{\"x\": 1612137600000, \"y\": 36.84, \"shop\": \"Instant Gaming\", \"name\": \"1 Feb 2021\"},\n",
      "{\"x\": 1615680000000, \"y\": 44.36, \"shop\": \"Instant Gaming\", \"name\": \"14 Mar 2021\"},\n",
      "{\"x\": 1618272000000, \"y\": 50.06, \"shop\": \"GAMIVO\", \"name\": \"13 Apr 2021\"},\n",
      "{\"x\": 1619827200000, \"y\": 47.8, \"shop\": \"G2Play\", \"name\": \"1 May 2021\"},\n",
      "{\"x\": 1624752000000, \"y\": 47.64, \"shop\": \"K4G.com\", \"name\": \"27 Jun 2021\"},\n",
      "{\"x\": 1625270400000, \"y\": 4...\n",
      "Dane zostały pomyślnie przetworzone na JSON!\n",
      "Plik Excel zapisany jako: c:\\Users\\Jakub\\Desktop\\Fifa analiza\\dane\\excel\\cena_klucz_fifa19.xlsx\n"
     ]
    }
   ],
   "source": [
    "#Keyshops\n",
    "file_path = r'c:\\Users\\Jakub\\Desktop\\Fifa analiza\\dane\\tekst\\cena_klucz_fifa19.txt'\n",
    "excel_folder = r'c:\\Users\\Jakub\\Desktop\\Fifa analiza\\dane\\excel'\n",
    "excel_filename = 'cena_klucz_fifa19.xlsx'\n",
    "\n",
    "process_file(file_path, excel_folder, excel_filename)"
   ]
  },
  {
   "cell_type": "markdown",
   "metadata": {},
   "source": [
    "FIFA 20"
   ]
  },
  {
   "cell_type": "code",
   "execution_count": 7,
   "metadata": {},
   "outputs": [
    {
     "name": "stdout",
     "output_type": "stream",
     "text": [
      "Cleaned Text:\n",
      "[{\"x\": 1560007411000, \"y\": 249.9, \"shop\": \"Ea.com\", \"name\": \"8 Jun 2019 23 - 14 Jun 2019 00\"},\n",
      "{\"x\": 1560520820000, \"y\": 219.9, \"shop\": \"Muve.pl\", \"name\": \"14 Jun 2019 00 - 14 Jun 2019 00\"},\n",
      "{\"x\": 1560524441000, \"y\": 198.9, \"shop\": \"Sklep Gry-OnLine\", \"name\": \"14 Jun 2019 00 - 27 Sep 2019 00\"},\n",
      "{\"x\": 1569589226000, \"y\": 209.9, \"shop\": \"Sklep Gry-OnLine\", \"name\": \"27 Sep 2019 00 - 27 Sep 2019 00\"},\n",
      "{\"x\": 1569600054000, \"y\": 219.9, \"shop\": \"Muve.pl\", \"name\": \"27 Sep 2019 00 - 27 Sep 2019 20\"},\n",
      "{\"x...\n",
      "Dane zostały pomyślnie przetworzone na JSON!\n",
      "Plik Excel zapisany jako: c:\\Users\\Jakub\\Desktop\\Fifa analiza\\dane\\excel\\cena_sklep_fifa20.xlsx\n"
     ]
    }
   ],
   "source": [
    "#Official stores\n",
    "file_path = r'c:\\Users\\Jakub\\Desktop\\Fifa analiza\\dane\\tekst\\cena_sklep_fifa20.txt'\n",
    "excel_folder = r'c:\\Users\\Jakub\\Desktop\\Fifa analiza\\dane\\excel'\n",
    "excel_filename = 'cena_sklep_fifa20.xlsx'\n",
    "\n",
    "process_file(file_path, excel_folder, excel_filename)"
   ]
  },
  {
   "cell_type": "code",
   "execution_count": 9,
   "metadata": {},
   "outputs": [
    {
     "name": "stdout",
     "output_type": "stream",
     "text": [
      "Cleaned Text:\n",
      "[{\"x\": 1609891200000, \"y\": 93.29, \"shop\": \"CDKeys.com\", \"name\": \"6 Jan 2021\"},\n",
      "{\"x\": 1613174400000, \"y\": 86.27, \"shop\": \"MMOGA\", \"name\": \"13 Feb 2021\"},\n",
      "{\"x\": 1616630400000, \"y\": 104.46, \"shop\": \"GAMIVO\", \"name\": \"25 Mar 2021\"},\n",
      "{\"x\": 1618444800000, \"y\": 64.7, \"shop\": \"Kinguin\", \"name\": \"15 Apr 2021\"},\n",
      "{\"x\": 1621036800000, \"y\": 40.13, \"shop\": \"G2Play\", \"name\": \"15 May 2021\"},\n",
      "{\"x\": 1623801600000, \"y\": 39.9, \"shop\": \"Kinguin\", \"name\": \"16 Jun 2021\"},\n",
      "{\"x\": 1626134400000, \"y\": 51.04, \"shop\": \"Inst...\n",
      "Dane zostały pomyślnie przetworzone na JSON!\n",
      "Plik Excel zapisany jako: c:\\Users\\Jakub\\Desktop\\Fifa analiza\\dane\\excel\\cena_klucz_fifa20.xlsx\n"
     ]
    }
   ],
   "source": [
    "#Keyshops\n",
    "file_path = r'c:\\Users\\Jakub\\Desktop\\Fifa analiza\\dane\\tekst\\cena_klucz_fifa20.txt'\n",
    "excel_folder = r'c:\\Users\\Jakub\\Desktop\\Fifa analiza\\dane\\excel'\n",
    "excel_filename = 'cena_klucz_fifa20.xlsx'\n",
    "\n",
    "process_file(file_path, excel_folder, excel_filename)"
   ]
  },
  {
   "cell_type": "markdown",
   "metadata": {},
   "source": [
    "FIFA 21"
   ]
  },
  {
   "cell_type": "code",
   "execution_count": 10,
   "metadata": {},
   "outputs": [
    {
     "name": "stdout",
     "output_type": "stream",
     "text": [
      "Cleaned Text:\n",
      "[{\"x\": 1592522041000, \"y\": 269.9, \"shop\": \"Steam\", \"name\": \"18 Jun 2020 14 - 22 Jun 2020 00\"},\n",
      "{\"x\": 1592830840000, \"y\": 214, \"shop\": \"3kropki.pl\", \"name\": \"22 Jun 2020 00 - 29 Jun 2020 30\"},\n",
      "{\"x\": 1593451840000, \"y\": 269.9, \"shop\": \"Ea.com\", \"name\": \"29 Jun 2020 30 - 3 Jul 2020 15\"},\n",
      "{\"x\": 1593796552000, \"y\": 244.83, \"shop\": \"Voidu\", \"name\": \"3 Jul 2020 15 - 3 Jul 2020 16\"},\n",
      "{\"x\": 1593796567000, \"y\": 241.6, \"shop\": \"2Game\", \"name\": \"3 Jul 2020 16 - 9 Jul 2020 10\"},\n",
      "{\"x\": 1594307449000, \"y\": 241...\n",
      "Dane zostały pomyślnie przetworzone na JSON!\n",
      "Plik Excel zapisany jako: c:\\Users\\Jakub\\Desktop\\Fifa analiza\\dane\\excel\\cena_sklep_fifa21.xlsx\n"
     ]
    }
   ],
   "source": [
    "#Official stores\n",
    "file_path = r'c:\\Users\\Jakub\\Desktop\\Fifa analiza\\dane\\tekst\\cena_sklep_fifa21.txt'\n",
    "excel_folder = r'c:\\Users\\Jakub\\Desktop\\Fifa analiza\\dane\\excel'\n",
    "excel_filename = 'cena_sklep_fifa21.xlsx'\n",
    "\n",
    "process_file(file_path, excel_folder, excel_filename)"
   ]
  },
  {
   "cell_type": "code",
   "execution_count": 11,
   "metadata": {},
   "outputs": [
    {
     "name": "stdout",
     "output_type": "stream",
     "text": [
      "Cleaned Text:\n",
      "[{\"x\": 1610928000000, \"y\": 102.59, \"shop\": \"CDKeys.com\", \"name\": \"18 Jan 2021\"},\n",
      "{\"x\": 1613260800000, \"y\": 85.86, \"shop\": \"GAMIVO\", \"name\": \"14 Feb 2021\"},\n",
      "{\"x\": 1614902400000, \"y\": 83.16, \"shop\": \"GAMIVO\", \"name\": \"5 Mar 2021\"},\n",
      "{\"x\": 1618531200000, \"y\": 78.71, \"shop\": \"GAMIVO\", \"name\": \"16 Apr 2021\"},\n",
      "{\"x\": 1620345600000, \"y\": 75.44, \"shop\": \"Kinguin\", \"name\": \"7 May 2021\"},\n",
      "{\"x\": 1624665600000, \"y\": 72.21, \"shop\": \"Kinguin\", \"name\": \"26 Jun 2021\"},\n",
      "{\"x\": 1626393600000, \"y\": 80.86, \"shop\": \"Ki...\n",
      "Dane zostały pomyślnie przetworzone na JSON!\n",
      "Plik Excel zapisany jako: c:\\Users\\Jakub\\Desktop\\Fifa analiza\\dane\\excel\\cena_klucz_fifa21.xlsx\n"
     ]
    }
   ],
   "source": [
    "#Keyshops\n",
    "file_path = r'c:\\Users\\Jakub\\Desktop\\Fifa analiza\\dane\\tekst\\cena_klucz_fifa21.txt'\n",
    "excel_folder = r'c:\\Users\\Jakub\\Desktop\\Fifa analiza\\dane\\excel'\n",
    "excel_filename = 'cena_klucz_fifa21.xlsx'\n",
    "\n",
    "process_file(file_path, excel_folder, excel_filename)"
   ]
  },
  {
   "cell_type": "markdown",
   "metadata": {},
   "source": [
    "FIFA 22"
   ]
  },
  {
   "cell_type": "code",
   "execution_count": null,
   "metadata": {},
   "outputs": [
    {
     "name": "stdout",
     "output_type": "stream",
     "text": [
      "Cleaned Text:\n",
      "[{\"x\": 1626019527000, \"y\": 269.9, \"shop\": \"Steam\", \"name\": \"11 Jul 2021 05 - 12 Jul 2021 00\"},\n",
      "{\"x\": 1626102041000, \"y\": 238.39, \"shop\": \"Fanatical\", \"name\": \"12 Jul 2021 00 - 12 Jul 2021 05\"},\n",
      "{\"x\": 1626102311000, \"y\": 209.98, \"shop\": \"Gamesplanet US\", \"name\": \"12 Jul 2021 05 - 13 Jul 2021 35\"},\n",
      "{\"x\": 1626212130000, \"y\": 238.39, \"shop\": \"Fanatical\", \"name\": \"13 Jul 2021 35 - 13 Aug 2021 05\"},\n",
      "{\"x\": 1628867159000, \"y\": 233.33, \"shop\": \"Green Man Gaming\", \"name\": \"13 Aug 2021 05 - 31 Aug 2021 05\"...\n",
      "Dane zostały pomyślnie przetworzone na JSON!\n",
      "Plik Excel zapisany jako: c:\\Users\\Jakub\\Desktop\\Fifa analiza\\dane\\excel\\cena_sklep_fifa22.xlsx\n"
     ]
    }
   ],
   "source": [
    "#Official stores\n",
    "file_path = r'c:\\Users\\Jakub\\Desktop\\Fifa analiza\\dane\\tekst\\cena_sklep_fifa22.txt'\n",
    "excel_folder = r'c:\\Users\\Jakub\\Desktop\\Fifa analiza\\dane\\excel'\n",
    "excel_filename = 'cena_sklep_fifa22.xlsx'\n",
    "\n",
    "process_file(file_path, excel_folder, excel_filename)"
   ]
  },
  {
   "cell_type": "code",
   "execution_count": null,
   "metadata": {},
   "outputs": [
    {
     "name": "stdout",
     "output_type": "stream",
     "text": [
      "Cleaned Text:\n",
      "[{\"x\": 1626134400000, \"y\": 178.69, \"shop\": \"CDKeys.com\", \"name\": \"13 Jul 2021\"},\n",
      "{\"x\": 1627948800000, \"y\": 178.69, \"shop\": \"CDKeys.com\", \"name\": \"3 Aug 2021\"},\n",
      "{\"x\": 1630540800000, \"y\": 201.22, \"shop\": \"MMOGA\", \"name\": \"2 Sep 2021\"},\n",
      "{\"x\": 1633737600000, \"y\": 189.99, \"shop\": \"CDKeys.com\", \"name\": \"9 Oct 2021\"},\n",
      "{\"x\": 1636329600000, \"y\": 187.91, \"shop\": \"Instant Gaming\", \"name\": \"8 Nov 2021\"},\n",
      "{\"x\": 1639612800000, \"y\": 113.02, \"shop\": \"K4G.com\", \"name\": \"16 Dec 2021\"},\n",
      "{\"x\": 1643068800000, \"y\": 9...\n",
      "Dane zostały pomyślnie przetworzone na JSON!\n",
      "Plik Excel zapisany jako: c:\\Users\\Jakub\\Desktop\\Fifa analiza\\dane\\excel\\cena_klucz_fifa22.xlsx\n"
     ]
    }
   ],
   "source": [
    "#Keyshops\n",
    "file_path = r'c:\\Users\\Jakub\\Desktop\\Fifa analiza\\dane\\tekst\\cena_klucz_fifa22.txt'\n",
    "excel_folder = r'c:\\Users\\Jakub\\Desktop\\Fifa analiza\\dane\\excel'\n",
    "excel_filename = 'cena_klucz_fifa22.xlsx'\n",
    "\n",
    "process_file(file_path, excel_folder, excel_filename)"
   ]
  },
  {
   "cell_type": "markdown",
   "metadata": {},
   "source": [
    "FIFA 23"
   ]
  },
  {
   "cell_type": "code",
   "execution_count": 12,
   "metadata": {},
   "outputs": [
    {
     "name": "stdout",
     "output_type": "stream",
     "text": [
      "Cleaned Text:\n",
      "[{\"x\": 1658333520000, \"y\": 299, \"shop\": \"Epic Games Store\", \"name\": \"20 Jul 2022 12 - 19 Sep 2022 04\"},\n",
      "{\"x\": 1663607043000, \"y\": 289.9, \"shop\": \"Muve.pl\", \"name\": \"19 Sep 2022 04 - 22 Nov 2022 36\"},\n",
      "{\"x\": 1669131393000, \"y\": 179.94, \"shop\": \"Ea.com\", \"name\": \"22 Nov 2022 36 - 22 Nov 2022 19\"},\n",
      "{\"x\": 1669133962000, \"y\": 179.4, \"shop\": \"Epic Games Store\", \"name\": \"22 Nov 2022 19 - 29 Nov 2022 00\"},\n",
      "{\"x\": 1669737600000, \"y\": 179.94, \"shop\": \"Steam\", \"name\": \"29 Nov 2022 00 - 29 Nov 2022 55\"},\n",
      "{\"x\"...\n",
      "Dane zostały pomyślnie przetworzone na JSON!\n",
      "Plik Excel zapisany jako: c:\\Users\\Jakub\\Desktop\\Fifa analiza\\dane\\excel\\cena_sklep_fifa23.xlsx\n"
     ]
    }
   ],
   "source": [
    "#Official stores\n",
    "file_path = r'c:\\Users\\Jakub\\Desktop\\Fifa analiza\\dane\\tekst\\cena_sklep_fifa23.txt'\n",
    "excel_folder = r'c:\\Users\\Jakub\\Desktop\\Fifa analiza\\dane\\excel'\n",
    "excel_filename = 'cena_sklep_fifa23.xlsx'\n",
    "\n",
    "process_file(file_path, excel_folder, excel_filename)"
   ]
  },
  {
   "cell_type": "code",
   "execution_count": 16,
   "metadata": {},
   "outputs": [
    {
     "name": "stdout",
     "output_type": "stream",
     "text": [
      "Cleaned Text:\n",
      "[{\"x\": 1656460800000, \"y\": 218.4, \"shop\": \"MMOGA\", \"name\": \"29 Jun 2022\"},\n",
      "{\"x\": 1657324800000, \"y\": 221.98, \"shop\": \"MMOGA\", \"name\": \"9 Jul 2022\"},\n",
      "{\"x\": 1660780800000, \"y\": 228.6, \"shop\": \"Yuplay\", \"name\": \"18 Aug 2022\"},\n",
      "{\"x\": 1663545600000, \"y\": 217.75, \"shop\": \"Kinguin\", \"name\": \"19 Sep 2022\"},\n",
      "{\"x\": 1664841600000, \"y\": 236.05, \"shop\": \"G2Play\", \"name\": \"4 Oct 2022\"},\n",
      "{\"x\": 1668470400000, \"y\": 195.05, \"shop\": \"G2Play\", \"name\": \"15 Nov 2022\"},\n",
      "{\"x\": 1671840000000, \"y\": 147.3, \"shop\": \"Kingui...\n",
      "Dane zostały pomyślnie przetworzone na JSON!\n",
      "Plik Excel zapisany jako: c:\\Users\\Jakub\\Desktop\\Fifa analiza\\dane\\excel\\cena_klucz_fifa23.xlsx\n"
     ]
    }
   ],
   "source": [
    "#Keyshops\n",
    "file_path = r'c:\\Users\\Jakub\\Desktop\\Fifa analiza\\dane\\tekst\\cena_klucz_fifa23.txt'\n",
    "excel_folder = r'c:\\Users\\Jakub\\Desktop\\Fifa analiza\\dane\\excel'\n",
    "excel_filename = 'cena_klucz_fifa23.xlsx'\n",
    "\n",
    "process_file(file_path, excel_folder, excel_filename)"
   ]
  }
 ],
 "metadata": {
  "kernelspec": {
   "display_name": "Python 3",
   "language": "python",
   "name": "python3"
  },
  "language_info": {
   "codemirror_mode": {
    "name": "ipython",
    "version": 3
   },
   "file_extension": ".py",
   "mimetype": "text/x-python",
   "name": "python",
   "nbconvert_exporter": "python",
   "pygments_lexer": "ipython3",
   "version": "3.12.3"
  }
 },
 "nbformat": 4,
 "nbformat_minor": 2
}
